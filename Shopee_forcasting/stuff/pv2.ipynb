{
 "cells": [
  {
   "cell_type": "code",
   "execution_count": 75,
   "metadata": {},
   "outputs": [],
   "source": [
    "import numpy as np\n",
    "import matplotlib.pyplot as plt\n",
    "import pandas as pd\n",
    "from sklearn.model_selection import train_test_split\n",
    "from sklearn.preprocessing import MinMaxScaler\n",
    "from sklearn.metrics import classification_report\n",
    "from sklearn.linear_model import LogisticRegression\n",
    "from sklearn.metrics import accuracy_score, precision_score, recall_score, f1_score\n",
    "import seaborn as sns\n",
    "from sklearn.metrics import confusion_matrix\n",
    "import category_encoders as ce\n",
    "from imblearn.over_sampling import SMOTE, SVMSMOTE\n",
    "import datetime\n",
    "from datetime import datetime as dt\n",
    "\n",
    "from sklearn.linear_model import LinearRegression\n",
    "from sklearn.model_selection import train_test_split\n",
    "from sklearn.ensemble import RandomForestClassifier\n",
    "import xgboost as xgb \n",
    "from sklearn.ensemble import GradientBoostingClassifier"
   ]
  },
  {
   "cell_type": "code",
   "execution_count": 76,
   "metadata": {},
   "outputs": [],
   "source": [
    "df = pd.read_csv('ShopeeData.csv')"
   ]
  },
  {
   "cell_type": "markdown",
   "metadata": {},
   "source": [
    "## Preprocessing"
   ]
  },
  {
   "cell_type": "code",
   "execution_count": 77,
   "metadata": {},
   "outputs": [
    {
     "name": "stdout",
     "output_type": "stream",
     "text": [
      "<class 'pandas.core.frame.DataFrame'>\n",
      "RangeIndex: 3867 entries, 0 to 3866\n",
      "Data columns (total 15 columns):\n",
      " #   Column               Non-Null Count  Dtype  \n",
      "---  ------               --------------  -----  \n",
      " 0   itemid               3867 non-null   int64  \n",
      " 1   shopid               3867 non-null   int64  \n",
      " 2   liked_count          3867 non-null   int64  \n",
      " 3   cmt_count            3867 non-null   int64  \n",
      " 4   discount             3842 non-null   object \n",
      " 5   shop_location        3867 non-null   object \n",
      " 6   shop_rating          3867 non-null   float64\n",
      " 7   name                 3867 non-null   object \n",
      " 8   historical_sold      3867 non-null   int64  \n",
      " 9   price                3867 non-null   float64\n",
      " 10  rating_star          3867 non-null   float64\n",
      " 11  rating_count         3867 non-null   int64  \n",
      " 12  rcount_with_context  3867 non-null   int64  \n",
      " 13  status               3867 non-null   object \n",
      " 14  Date                 3867 non-null   object \n",
      "dtypes: float64(3), int64(7), object(5)\n",
      "memory usage: 453.3+ KB\n"
     ]
    }
   ],
   "source": [
    "df.info()"
   ]
  },
  {
   "cell_type": "code",
   "execution_count": 78,
   "metadata": {},
   "outputs": [
    {
     "data": {
      "text/plain": [
       "itemid\n",
       "20030969576    22\n",
       "21974114545    22\n",
       "5431288093     22\n",
       "4887949703     22\n",
       "2670835879     22\n",
       "               ..\n",
       "5260205238      4\n",
       "24320863474     4\n",
       "24671491249     3\n",
       "24321557597     2\n",
       "25205746040     1\n",
       "Name: count, Length: 196, dtype: int64"
      ]
     },
     "execution_count": 78,
     "metadata": {},
     "output_type": "execute_result"
    }
   ],
   "source": [
    "df['itemid'].value_counts()"
   ]
  },
  {
   "cell_type": "code",
   "execution_count": null,
   "metadata": {},
   "outputs": [],
   "source": [
    "df['Date'].to"
   ]
  },
  {
   "cell_type": "code",
   "execution_count": 79,
   "metadata": {},
   "outputs": [],
   "source": [
    "df['discount'].fillna(\"0%\", inplace=True)\n",
    "df['discount'] = df['discount'].str.replace('%', '').astype(int)"
   ]
  },
  {
   "cell_type": "code",
   "execution_count": 80,
   "metadata": {},
   "outputs": [
    {
     "data": {
      "text/plain": [
       "Index(['itemid', 'liked_count', 'cmt_count', 'discount', 'shop_rating',\n",
       "       'historical_sold', 'price', 'rating_star', 'rating_count',\n",
       "       'rcount_with_context', 'Date'],\n",
       "      dtype='object')"
      ]
     },
     "execution_count": 80,
     "metadata": {},
     "output_type": "execute_result"
    }
   ],
   "source": [
    "df = df.drop(columns=['shopid', 'shop_location', 'name', 'status'])\n",
    "df.columns"
   ]
  },
  {
   "cell_type": "markdown",
   "metadata": {},
   "source": [
    "# Data analysis"
   ]
  },
  {
   "cell_type": "code",
   "execution_count": 81,
   "metadata": {},
   "outputs": [
    {
     "data": {
      "text/plain": [
       "Index(['itemid', 'liked_count', 'cmt_count', 'discount', 'shop_rating',\n",
       "       'historical_sold', 'price', 'rating_star', 'rating_count',\n",
       "       'rcount_with_context', 'Date'],\n",
       "      dtype='object')"
      ]
     },
     "execution_count": 81,
     "metadata": {},
     "output_type": "execute_result"
    }
   ],
   "source": [
    "df.columns"
   ]
  },
  {
   "cell_type": "code",
   "execution_count": 82,
   "metadata": {},
   "outputs": [],
   "source": [
    "plt.style.use('fivethirtyeight')\n",
    "color_pal = sns.color_palette()"
   ]
  },
  {
   "cell_type": "code",
   "execution_count": null,
   "metadata": {},
   "outputs": [],
   "source": [
    "df['Num sold'] =df['historical_sold']"
   ]
  },
  {
   "cell_type": "code",
   "execution_count": 83,
   "metadata": {},
   "outputs": [],
   "source": [
    "# df['Date'] = pd.to_datetime(df['Date'])\n",
    "# df.set_index('Date', inplace=True)\n",
    "# df.plot(style='.', figsize=(15,5), color=color_pal[0], title='Shopee Data')"
   ]
  },
  {
   "cell_type": "markdown",
   "metadata": {},
   "source": [
    "# Train test dataset\n"
   ]
  },
  {
   "cell_type": "code",
   "execution_count": 84,
   "metadata": {},
   "outputs": [],
   "source": [
    "# Lấy dữ liệu cho ngày 30\n",
    "# data_day_30 = df[df['Date_of_Month'] == 30]\n",
    "# data_day_31 = df[df['Date_of_Month'] == 31]\n",
    "# # Tạo dữ liệu huấn luyện\n",
    "# X_train = df[df['Date_of_Month'] < 30].drop(['itemid', 'Date_of_Month'], axis=1)\n",
    "# y_train = df[df['Date_of_Month'] < 30]['historical_sold']\n",
    "\n",
    "# Huấn luyện mô hình hồi quy tuyến tính\n",
    "# model = LinearRegression()\n",
    "# model.fit(X_train, y_train)\n",
    "\n",
    "# # Dự đoán số lượng bán ra trong ngày 31\n",
    "# X_day_31 = data_day_30.drop(['itemid', 'Date_of_Month'], axis=1)\n",
    "# predictions = model.predict(X_day_31)\n",
    "\n",
    "# # Kết hợp các dự đoán với các itemid\n",
    "# predictions_df = pd.DataFrame({'itemid': data_day_30['itemid'], 'predicted_sold': predictions})\n",
    "# print(predictions_df)"
   ]
  },
  {
   "cell_type": "code",
   "execution_count": 85,
   "metadata": {},
   "outputs": [],
   "source": [
    "# len(data_day_30)"
   ]
  },
  {
   "cell_type": "markdown",
   "metadata": {},
   "source": [
    "## training"
   ]
  },
  {
   "cell_type": "code",
   "execution_count": 86,
   "metadata": {},
   "outputs": [],
   "source": [
    "# # Huấn luyện mô hình Random Forest\n",
    "# model = RandomForestClassifier(n_estimators=100, random_state=42)\n",
    "# model.fit(X_train, y_train)"
   ]
  },
  {
   "cell_type": "code",
   "execution_count": 87,
   "metadata": {},
   "outputs": [],
   "source": [
    "# X_day_31 = data_day_30.drop(['itemid', 'Date_of_Month'], axis=1)\n",
    "# predictions = model.predict(X_day_31)\n",
    "# len(predictions)\n",
    "# # Kết hợp các dự đoán với các itemid\n",
    "# predictions_df = pd.DataFrame({'itemid': data_day_30['itemid'], 'predicted_sold': predictions})\n",
    "# print(predictions_df)"
   ]
  },
  {
   "cell_type": "code",
   "execution_count": 88,
   "metadata": {},
   "outputs": [],
   "source": [
    "# query = pd.merge(predictions_df, data_day_31, on='itemid')\n",
    "# query"
   ]
  }
 ],
 "metadata": {
  "kernelspec": {
   "display_name": "base",
   "language": "python",
   "name": "python3"
  },
  "language_info": {
   "codemirror_mode": {
    "name": "ipython",
    "version": 3
   },
   "file_extension": ".py",
   "mimetype": "text/x-python",
   "name": "python",
   "nbconvert_exporter": "python",
   "pygments_lexer": "ipython3",
   "version": "3.10.12"
  }
 },
 "nbformat": 4,
 "nbformat_minor": 2
}
