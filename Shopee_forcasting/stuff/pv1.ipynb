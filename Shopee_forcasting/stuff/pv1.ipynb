{
 "cells": [
  {
   "cell_type": "code",
   "execution_count": 73,
   "metadata": {},
   "outputs": [],
   "source": [
    "import numpy as np\n",
    "import matplotlib.pyplot as plt\n",
    "import pandas as pd\n",
    "from sklearn.model_selection import train_test_split\n",
    "from sklearn.preprocessing import MinMaxScaler\n",
    "from sklearn.metrics import classification_report\n",
    "from sklearn.linear_model import LogisticRegression\n",
    "from sklearn.metrics import accuracy_score, precision_score, recall_score, f1_score\n",
    "import seaborn as sns\n",
    "from sklearn.metrics import confusion_matrix\n",
    "import category_encoders as ce\n",
    "from imblearn.over_sampling import SMOTE, SVMSMOTE\n",
    "import datetime\n",
    "from datetime import datetime as dt"
   ]
  },
  {
   "cell_type": "code",
   "execution_count": 74,
   "metadata": {},
   "outputs": [],
   "source": [
    "data = pd.read_csv('ShopeeData.csv')"
   ]
  },
  {
   "cell_type": "code",
   "execution_count": 75,
   "metadata": {},
   "outputs": [
    {
     "name": "stdout",
     "output_type": "stream",
     "text": [
      "<class 'pandas.core.frame.DataFrame'>\n",
      "RangeIndex: 3867 entries, 0 to 3866\n",
      "Data columns (total 15 columns):\n",
      " #   Column               Non-Null Count  Dtype  \n",
      "---  ------               --------------  -----  \n",
      " 0   itemid               3867 non-null   int64  \n",
      " 1   shopid               3867 non-null   int64  \n",
      " 2   liked_count          3867 non-null   int64  \n",
      " 3   cmt_count            3867 non-null   int64  \n",
      " 4   discount             3842 non-null   object \n",
      " 5   shop_location        3867 non-null   object \n",
      " 6   shop_rating          3867 non-null   float64\n",
      " 7   name                 3867 non-null   object \n",
      " 8   historical_sold      3867 non-null   int64  \n",
      " 9   price                3867 non-null   float64\n",
      " 10  rating_star          3867 non-null   float64\n",
      " 11  rating_count         3867 non-null   int64  \n",
      " 12  rcount_with_context  3867 non-null   int64  \n",
      " 13  status               3867 non-null   object \n",
      " 14  Date                 3867 non-null   object \n",
      "dtypes: float64(3), int64(7), object(5)\n",
      "memory usage: 453.3+ KB\n"
     ]
    }
   ],
   "source": [
    "data.info()"
   ]
  },
  {
   "cell_type": "code",
   "execution_count": 76,
   "metadata": {},
   "outputs": [
    {
     "data": {
      "text/plain": [
       "pandas.core.series.Series"
      ]
     },
     "execution_count": 76,
     "metadata": {},
     "output_type": "execute_result"
    }
   ],
   "source": [
    "type(data['Date'])"
   ]
  },
  {
   "cell_type": "code",
   "execution_count": 77,
   "metadata": {},
   "outputs": [
    {
     "data": {
      "text/plain": [
       "Index(['itemid', 'shopid', 'liked_count', 'cmt_count', 'discount',\n",
       "       'shop_location', 'shop_rating', 'name', 'historical_sold', 'price',\n",
       "       'rating_star', 'rating_count', 'rcount_with_context', 'status', 'Date'],\n",
       "      dtype='object')"
      ]
     },
     "execution_count": 77,
     "metadata": {},
     "output_type": "execute_result"
    }
   ],
   "source": [
    "data.columns"
   ]
  },
  {
   "cell_type": "code",
   "execution_count": 78,
   "metadata": {},
   "outputs": [
    {
     "data": {
      "text/plain": [
       "Index(['liked_count', 'cmt_count', 'discount', 'shop_rating', 'name',\n",
       "       'historical_sold', 'price', 'rating_star', 'rating_count',\n",
       "       'rcount_with_context', 'Date'],\n",
       "      dtype='object')"
      ]
     },
     "execution_count": 78,
     "metadata": {},
     "output_type": "execute_result"
    }
   ],
   "source": [
    "data = data.drop(columns=['itemid', 'shopid', 'shop_location', 'status'])\n",
    "data.columns"
   ]
  },
  {
   "cell_type": "code",
   "execution_count": 79,
   "metadata": {},
   "outputs": [
    {
     "data": {
      "text/plain": [
       "0      2024-03-10\n",
       "1      2024-03-10\n",
       "2      2024-03-10\n",
       "3      2024-03-10\n",
       "4      2024-03-10\n",
       "          ...    \n",
       "3862   2024-03-31\n",
       "3863   2024-03-31\n",
       "3864   2024-03-31\n",
       "3865   2024-03-31\n",
       "3866   2024-03-31\n",
       "Name: Date, Length: 3867, dtype: datetime64[ns]"
      ]
     },
     "execution_count": 79,
     "metadata": {},
     "output_type": "execute_result"
    }
   ],
   "source": [
    "data['Date'] = pd.to_datetime(data['Date'])\n",
    "data['Date']"
   ]
  },
  {
   "cell_type": "code",
   "execution_count": 80,
   "metadata": {},
   "outputs": [],
   "source": [
    "data['discount'].fillna('0%', inplace=True)\n",
    "data['discount'] = data['discount'].str.replace('%', '').astype('int')"
   ]
  },
  {
   "cell_type": "code",
   "execution_count": 81,
   "metadata": {},
   "outputs": [],
   "source": [
    "# # Set 'Date' as the datetime column\n",
    "# data.set_index('Date', inplace=True)"
   ]
  },
  {
   "cell_type": "code",
   "execution_count": 82,
   "metadata": {},
   "outputs": [],
   "source": [
    "data_w1 = data[(data['Date'] >= '2024-03-10') & (data['Date'] <= '2024-03-17')]\n",
    "data_w2 = data[(data['Date'] >= '2024-03-18') & (data['Date'] <= '2024-03-24')]\n",
    "data_w3 = data[(data['Date'] >= '2024-03-25') & (data['Date'] <= '2024-03-31')]"
   ]
  },
  {
   "cell_type": "code",
   "execution_count": 83,
   "metadata": {},
   "outputs": [
    {
     "data": {
      "text/plain": [
       "name\n",
       "Sá»¯a Rá»­a Máº·t CeraVe SA Smoothing, Hydrating, Foaming Cleanser - Cho Da Dáº§u Má»¥n, KhÃ´, Nháº¡y Cáº£m 88ml â€“ 236ml â€“ 473ml    22\n",
       "NÆ°á»›c Táº©y Trang L'Oreal Paris 3in1 Micellar Water 95ml - 400ml, LÃ m Sáº¡ch, DÆ°á»¡ng áº¨m Cho Má»i Loáº¡i Da Loreal               22\n",
       "Sá»¯a Rá»­a Máº·t Giáº£m Má»¥n Ngá»«a Khuáº©n - Ziaja Med Anti Imperfections Formula Cleansing Gel 200ml                                22\n",
       "Kem DÆ°á»¡ng SVR SEBIACLEAR Active Gel 40ml, LÃ m Giáº£m Má»¥n VÃ  GiÃºp Loáº¡i Bá» Dáº§u Cho Da                                       22\n",
       "Kem Giáº£m Má»¥n vÃ  Nhá»n Eucerin Pro Acne A.I Clearing Treatment 40ml - Má» Váº¿t ThÃ¢m, TÃ¡i Táº¡o Da, Tinh Cháº¥t                 22\n",
       "                                                                                                                                        ..\n",
       "Xá»‹t DÆ°á»¡ng CÃ¢n Báº±ng Da Ziaja Manuka Tree Purifying Astringent Face Toner 200ml - GiÃºp Se KhÃ­t Lá»— ChÃ¢n LÃ´ng                  4\n",
       "Sá»¯a Rá»­a Máº·t Ziaja Manuka Cho Da Dáº§u Má»¥n Trá»©ng CÃ¡ Tree Purifying Normalising Cleansing Gel 200ml                             4\n",
       "Máº·t Náº¡ TÃ³c Tsubaki Phá»¥c Há»“i TÃ³c HÆ° Tá»•n Tsubaki Premium EX Repair Mask 180g                                                  3\n",
       "LÄƒn Khá»­ MÃ¹i Perspi-Guard 30ml NgÄƒn Má»“ HÃ´i Cao Cáº¥p 3-5 ngÃ y                                                                    2\n",
       "Kem chá»‘ng náº¯ng SPF 50 UVA+UVB Vichy Capital Soleil Mattifying Dry Touch Face Fluid 50ml                                              1\n",
       "Name: count, Length: 201, dtype: int64"
      ]
     },
     "execution_count": 83,
     "metadata": {},
     "output_type": "execute_result"
    }
   ],
   "source": [
    "data['name'].value_counts()"
   ]
  },
  {
   "cell_type": "code",
   "execution_count": 86,
   "metadata": {},
   "outputs": [],
   "source": [
    "y = data['historical_sold']"
   ]
  },
  {
   "cell_type": "code",
   "execution_count": null,
   "metadata": {},
   "outputs": [],
   "source": [
    "# Set 'Date' as the datetime column\n",
    "data.set_index('Date', inplace=True)"
   ]
  },
  {
   "cell_type": "code",
   "execution_count": null,
   "metadata": {},
   "outputs": [],
   "source": [
    "# from fbprophet import Prophet"
   ]
  }
 ],
 "metadata": {
  "kernelspec": {
   "display_name": "base",
   "language": "python",
   "name": "python3"
  },
  "language_info": {
   "codemirror_mode": {
    "name": "ipython",
    "version": 3
   },
   "file_extension": ".py",
   "mimetype": "text/x-python",
   "name": "python",
   "nbconvert_exporter": "python",
   "pygments_lexer": "ipython3",
   "version": "3.10.12"
  }
 },
 "nbformat": 4,
 "nbformat_minor": 2
}
